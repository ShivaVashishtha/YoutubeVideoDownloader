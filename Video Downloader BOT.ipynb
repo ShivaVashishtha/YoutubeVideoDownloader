{
 "cells": [
  {
   "cell_type": "code",
   "execution_count": null,
   "metadata": {},
   "outputs": [],
   "source": [
    "#Youtube Video Downloader By SaveFromNet\n",
    "search=input(\"Enter your Search: \")\n",
    "from selenium import webdriver\n",
    "from bs4 import BeautifulSoup\n",
    "from time import sleep\n",
    "driver = webdriver.Chrome('D:\\chromedriver')\n",
    "driver.get(\"https://www.youtube.com/\")\n",
    "srch = driver.find_element_by_xpath(\"//input[@id='search']\")\n",
    "srch.send_keys(search)\n",
    "srch.submit()\n",
    "thumbnail = driver.find_element_by_xpath(\"//img[@class='style-scope yt-img-shadow']\")\n",
    "thumbnail.click()\n",
    "url=driver.current_url\n",
    "sleep(2)\n",
    "driver.get('https://en.savefrom.net/')\n",
    "sleep(1)\n",
    "sfn = driver.find_element_by_id(\"sf_url\")\n",
    "sfn.send_keys(url)\n",
    "sfn.submit()\n",
    "sleep(2)\n",
    "download=driver.find_element_by_link_text('Download')\n",
    "download.click()"
   ]
  },
  {
   "cell_type": "code",
   "execution_count": null,
   "metadata": {},
   "outputs": [],
   "source": [
    "#Youtube Video Downoad by Youtubnow\n",
    "search=input(\"Enter your Search: \") #getting the video title from user\n",
    "from selenium import webdriver\n",
    "from bs4 import BeautifulSoup\n",
    "from time import sleep\n",
    "driver = webdriver.Chrome('D:\\chromedriver')\n",
    "driver.get(\"https://www.youtube.com/\") #opening youtube by its URL\n",
    "srch = driver.find_element_by_xpath(\"//input[@id='search']\") #going to search column bar its path\n",
    "srch.send_keys(search)   #entering the title as taken by the user\n",
    "srch.submit()            #clicking on Submit\n",
    "thumbnail = driver.find_element_by_xpath(\"//img[@class='style-scope yt-img-shadow']\") #accessing first thumbnail appers in the result\n",
    "thumbnail.click() #clicking on the thumbnail\n",
    "url=driver.current_url #storing the urlin a variable\n",
    "sleep(2)\n",
    "driver.get('https://www.youtubnow.com') #opening youtubnow website which helps to download the video\n",
    "sleep(1)\n",
    "sfn = driver.find_element_by_id(\"search\") #accessing the search bar using its id name\n",
    "sfn.send_keys(url) #entering the irl as taken from the youtube \n",
    "sfn.submit()       #submitting the url which starts searching it\n",
    "sleep(5)\n",
    "download=driver.find_element_by_xpath(\"//a[@id='downloadVideoButton']\") #accessing the download button using its path and id name\n",
    "download.click() #clicking on download button\n",
    "#the video will start downloading"
   ]
  },
  {
   "cell_type": "code",
   "execution_count": null,
   "metadata": {},
   "outputs": [],
   "source": []
  }
 ],
 "metadata": {
  "kernelspec": {
   "display_name": "Python 3",
   "language": "python",
   "name": "python3"
  },
  "language_info": {
   "codemirror_mode": {
    "name": "ipython",
    "version": 3
   },
   "file_extension": ".py",
   "mimetype": "text/x-python",
   "name": "python",
   "nbconvert_exporter": "python",
   "pygments_lexer": "ipython3",
   "version": "3.7.1"
  }
 },
 "nbformat": 4,
 "nbformat_minor": 2
}
